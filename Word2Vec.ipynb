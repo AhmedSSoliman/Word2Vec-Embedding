{
  "nbformat": 4,
  "nbformat_minor": 0,
  "metadata": {
    "colab": {
      "name": "Word2Vec.ipynb",
      "provenance": [],
      "collapsed_sections": [],
      "authorship_tag": "ABX9TyPMN8srXsAkK+dO1Qv7aC1y"
    },
    "kernelspec": {
      "name": "python3",
      "display_name": "Python 3"
    },
    "accelerator": "GPU"
  },
  "cells": [
    {
      "cell_type": "code",
      "metadata": {
        "colab": {
          "base_uri": "https://localhost:8080/"
        },
        "id": "8TOKFScMx7nT",
        "outputId": "ce84818f-28b0-42a2-e59e-fb7df9aac09f"
      },
      "source": [
        "!pip install sklearn\r\n",
        "!pip install -U gensim"
      ],
      "execution_count": 4,
      "outputs": [
        {
          "output_type": "stream",
          "text": [
            "Requirement already satisfied: sklearn in /usr/local/lib/python3.6/dist-packages (0.0)\n",
            "Requirement already satisfied: scikit-learn in /usr/local/lib/python3.6/dist-packages (from sklearn) (0.22.2.post1)\n",
            "Requirement already satisfied: scipy>=0.17.0 in /usr/local/lib/python3.6/dist-packages (from scikit-learn->sklearn) (1.4.1)\n",
            "Requirement already satisfied: joblib>=0.11 in /usr/local/lib/python3.6/dist-packages (from scikit-learn->sklearn) (1.0.0)\n",
            "Requirement already satisfied: numpy>=1.11.0 in /usr/local/lib/python3.6/dist-packages (from scikit-learn->sklearn) (1.19.5)\n",
            "Collecting gensim\n",
            "\u001b[?25l  Downloading https://files.pythonhosted.org/packages/2b/e0/fa6326251692056dc880a64eb22117e03269906ba55a6864864d24ec8b4e/gensim-3.8.3-cp36-cp36m-manylinux1_x86_64.whl (24.2MB)\n",
            "\u001b[K     |████████████████████████████████| 24.2MB 175kB/s \n",
            "\u001b[?25hRequirement already satisfied, skipping upgrade: numpy>=1.11.3 in /usr/local/lib/python3.6/dist-packages (from gensim) (1.19.5)\n",
            "Requirement already satisfied, skipping upgrade: smart-open>=1.8.1 in /usr/local/lib/python3.6/dist-packages (from gensim) (4.1.0)\n",
            "Requirement already satisfied, skipping upgrade: six>=1.5.0 in /usr/local/lib/python3.6/dist-packages (from gensim) (1.15.0)\n",
            "Requirement already satisfied, skipping upgrade: scipy>=0.18.1 in /usr/local/lib/python3.6/dist-packages (from gensim) (1.4.1)\n",
            "Installing collected packages: gensim\n",
            "  Found existing installation: gensim 3.6.0\n",
            "    Uninstalling gensim-3.6.0:\n",
            "      Successfully uninstalled gensim-3.6.0\n",
            "Successfully installed gensim-3.8.3\n"
          ],
          "name": "stdout"
        }
      ]
    },
    {
      "cell_type": "code",
      "metadata": {
        "id": "8J9NdDWZyWH1"
      },
      "source": [
        "import os\r\n",
        "import numpy as np\r\n",
        "\r\n",
        "import gensim\r\n",
        "from gensim.models import Word2Vec"
      ],
      "execution_count": 26,
      "outputs": []
    },
    {
      "cell_type": "code",
      "metadata": {
        "colab": {
          "base_uri": "https://localhost:8080/"
        },
        "id": "EtHH6p9QzW1T",
        "outputId": "1d0e16eb-33d3-48d3-a4dc-60dc92708411"
      },
      "source": [
        "from google.colab import drive\r\n",
        "drive.mount('/content/drive')"
      ],
      "execution_count": 10,
      "outputs": [
        {
          "output_type": "stream",
          "text": [
            "Drive already mounted at /content/drive; to attempt to forcibly remount, call drive.mount(\"/content/drive\", force_remount=True).\n"
          ],
          "name": "stdout"
        }
      ]
    },
    {
      "cell_type": "code",
      "metadata": {
        "id": "NbaH-HdMzWp6"
      },
      "source": [
        "import os\r\n",
        "os.environ['KAGGLE_CONFIG_DIR'] = \"/content/drive/My Drive/Kaggle\""
      ],
      "execution_count": 12,
      "outputs": []
    },
    {
      "cell_type": "code",
      "metadata": {
        "colab": {
          "base_uri": "https://localhost:8080/"
        },
        "id": "0lwo07qJ0BHZ",
        "outputId": "2cd9cd1c-f1a9-4f90-eb94-6a00193fc299"
      },
      "source": [
        "#changing the working directory\r\n",
        "%cd /content/drive/My Drive/Kaggle\r\n",
        "\r\n",
        "#Check the present working directory using pwd command"
      ],
      "execution_count": 13,
      "outputs": [
        {
          "output_type": "stream",
          "text": [
            "/content/drive/My Drive/Kaggle\n"
          ],
          "name": "stdout"
        }
      ]
    },
    {
      "cell_type": "code",
      "metadata": {
        "colab": {
          "base_uri": "https://localhost:8080/"
        },
        "id": "NxaL2Xkry7GY",
        "outputId": "d9155987-58da-48d9-f872-ed90aa36687c"
      },
      "source": [
        "!kaggle datasets download -d sandreds/googlenewsvectorsnegative300"
      ],
      "execution_count": 14,
      "outputs": [
        {
          "output_type": "stream",
          "text": [
            "Downloading googlenewsvectorsnegative300.zip to /content/drive/My Drive/Kaggle\n",
            "100% 1.64G/1.64G [00:50<00:00, 42.5MB/s]\n",
            "100% 1.64G/1.64G [00:50<00:00, 35.0MB/s]\n"
          ],
          "name": "stdout"
        }
      ]
    },
    {
      "cell_type": "code",
      "metadata": {
        "colab": {
          "base_uri": "https://localhost:8080/"
        },
        "id": "kFJDTJlC3Ivx",
        "outputId": "2b19b423-0b7d-4dcd-de0f-5ca13f20f533"
      },
      "source": [
        "#unzipping the zip files and deleting the zip files\r\n",
        "!unzip \\*.zip  && rm *.zip"
      ],
      "execution_count": 16,
      "outputs": [
        {
          "output_type": "stream",
          "text": [
            "Archive:  googlenewsvectorsnegative300.zip\n",
            "  inflating: GoogleNews-vectors-negative300.bin  \n"
          ],
          "name": "stdout"
        }
      ]
    },
    {
      "cell_type": "code",
      "metadata": {
        "colab": {
          "base_uri": "https://localhost:8080/",
          "height": 36
        },
        "id": "_kg1hEew3lBZ",
        "outputId": "d8c3192e-2ccd-4ebe-86f1-992184e95c99"
      },
      "source": [
        "pwd"
      ],
      "execution_count": 18,
      "outputs": [
        {
          "output_type": "execute_result",
          "data": {
            "application/vnd.google.colaboratory.intrinsic+json": {
              "type": "string"
            },
            "text/plain": [
              "'/content/drive/My Drive/Kaggle'"
            ]
          },
          "metadata": {
            "tags": []
          },
          "execution_count": 18
        }
      ]
    },
    {
      "cell_type": "code",
      "metadata": {
        "colab": {
          "base_uri": "https://localhost:8080/"
        },
        "id": "peABstOzybHL",
        "outputId": "f8c1e065-1aba-44e2-e8da-59857ea85cde"
      },
      "source": [
        "#use pretrained word2vec \r\n",
        "model = gensim.models.KeyedVectors.load_word2vec_format('GoogleNews-vectors-negative300.bin', binary=True)\r\n",
        "\r\n",
        "#Printing the vector of a word\r\n",
        "print(model['post'])"
      ],
      "execution_count": 20,
      "outputs": [
        {
          "output_type": "stream",
          "text": [
            "[-0.02148438 -0.00379944 -0.11474609 -0.046875   -0.09375    -0.11914062\n",
            " -0.06347656 -0.16210938  0.28320312 -0.20996094 -0.18652344 -0.29296875\n",
            "  0.05029297  0.02355957 -0.07226562 -0.19433594  0.13476562 -0.14355469\n",
            "  0.09912109 -0.109375    0.1640625   0.046875    0.09130859  0.12353516\n",
            "  0.12792969 -0.03857422 -0.06030273 -0.00994873  0.10351562  0.01239014\n",
            " -0.15429688 -0.07373047  0.04101562 -0.04907227 -0.25390625  0.04760742\n",
            " -0.00741577 -0.08251953 -0.08300781  0.23046875 -0.01269531 -0.14257812\n",
            "  0.28515625 -0.10595703  0.03955078 -0.00448608  0.03198242 -0.01531982\n",
            " -0.11279297  0.02539062 -0.0625     -0.10839844 -0.05737305  0.14160156\n",
            " -0.04541016  0.02416992 -0.05957031  0.00622559  0.03125    -0.28125\n",
            " -0.0625     -0.09716797 -0.14257812 -0.06689453 -0.01696777  0.13378906\n",
            "  0.01483154 -0.05053711  0.12597656  0.23242188 -0.04418945  0.1953125\n",
            "  0.11767578 -0.17382812 -0.16113281 -0.20507812  0.17773438  0.17089844\n",
            " -0.04760742  0.08935547 -0.00311279  0.00909424 -0.02368164 -0.04931641\n",
            "  0.27734375  0.02612305 -0.02514648 -0.12255859 -0.07714844 -0.09326172\n",
            "  0.12792969 -0.09765625  0.23828125  0.00866699 -0.03393555  0.07910156\n",
            "  0.12060547 -0.05688477 -0.02575684  0.2578125   0.05224609 -0.10253906\n",
            "  0.18945312  0.23535156 -0.10449219 -0.27734375 -0.3671875  -0.1328125\n",
            "  0.03320312 -0.07519531 -0.01220703  0.06591797 -0.17480469 -0.11132812\n",
            " -0.00219727  0.00349426  0.1484375  -0.18457031  0.15039062 -0.09033203\n",
            " -0.03173828 -0.08154297 -0.06542969  0.02441406  0.13183594  0.21875\n",
            "  0.1640625  -0.03466797  0.10302734 -0.0088501  -0.12402344 -0.3046875\n",
            " -0.12011719  0.11816406  0.00585938 -0.22460938 -0.27734375 -0.01586914\n",
            "  0.06591797  0.04052734  0.11083984 -0.08691406  0.08740234 -0.12402344\n",
            " -0.03808594 -0.18457031 -0.02661133 -0.0279541  -0.16015625  0.11328125\n",
            "  0.21679688  0.29296875 -0.0534668   0.17675781 -0.03369141 -0.06640625\n",
            " -0.04663086 -0.13867188  0.21582031 -0.05029297 -0.00040436  0.07080078\n",
            "  0.0168457   0.02587891  0.19140625 -0.03881836  0.09130859 -0.10205078\n",
            " -0.21582031  0.12597656 -0.03344727 -0.04150391 -0.02990723 -0.26171875\n",
            "  0.14355469 -0.25390625 -0.00390625 -0.15332031  0.07666016  0.16992188\n",
            " -0.02392578 -0.00173187 -0.16699219  0.15527344 -0.08496094 -0.01135254\n",
            "  0.09033203 -0.01672363  0.11572266  0.15722656  0.08203125  0.10058594\n",
            " -0.01953125  0.07958984 -0.05249023  0.02429199  0.16015625 -0.0019455\n",
            " -0.08740234  0.08886719 -0.19726562  0.11669922 -0.0456543   0.18164062\n",
            "  0.02612305  0.01965332  0.15722656 -0.08984375 -0.08837891  0.14941406\n",
            " -0.22265625  0.02282715 -0.11035156  0.21972656 -0.21972656  0.01135254\n",
            " -0.18554688 -0.05639648 -0.15917969 -0.05200195  0.08642578  0.171875\n",
            " -0.18359375 -0.13085938  0.09228516 -0.03039551 -0.23535156 -0.16992188\n",
            "  0.31054688 -0.1875      0.04321289 -0.14355469 -0.12304688  0.0559082\n",
            "  0.09667969  0.06542969 -0.09423828 -0.17285156 -0.09326172  0.06396484\n",
            "  0.01879883  0.05615234  0.12597656 -0.22265625  0.03173828  0.07080078\n",
            " -0.16210938  0.19335938  0.08886719 -0.08837891  0.00744629 -0.08740234\n",
            " -0.11621094  0.14550781 -0.05395508  0.07128906  0.17480469  0.16894531\n",
            "  0.05371094  0.04150391  0.15039062  0.13964844  0.08496094  0.09814453\n",
            "  0.19042969  0.01434326  0.03833008  0.05737305 -0.21386719 -0.05615234\n",
            "  0.06933594 -0.09375     0.11132812 -0.19433594 -0.13476562 -0.04223633\n",
            " -0.02441406 -0.26757812  0.13085938  0.17382812  0.09228516 -0.11767578\n",
            " -0.24707031  0.14648438  0.12011719  0.18066406 -0.06933594 -0.0456543\n",
            " -0.10449219 -0.03344727 -0.21386719 -0.08691406 -0.03393555  0.18457031\n",
            "  0.00866699 -0.24511719  0.16699219 -0.29882812 -0.13574219  0.03613281]\n"
          ],
          "name": "stdout"
        }
      ]
    },
    {
      "cell_type": "code",
      "metadata": {
        "colab": {
          "base_uri": "https://localhost:8080/"
        },
        "id": "5RipYsrHyfqf",
        "outputId": "72a597fd-c38d-43bf-e4f1-5c724d821468"
      },
      "source": [
        "#Check similarity between two words\r\n",
        "print (model.wv.similarity('post', 'book'))\r\n",
        "print (model.wv.similarity('man', 'woman'))\r\n",
        "print (model.wv.similarity('king', 'queen'))\r\n",
        "\r\n",
        "# Get most similar words to this string\r\n",
        "#model.wv.most_similar(\"happy\")"
      ],
      "execution_count": 21,
      "outputs": [
        {
          "output_type": "stream",
          "text": [
            "/usr/local/lib/python3.6/dist-packages/ipykernel_launcher.py:2: DeprecationWarning: Call to deprecated `wv` (Attribute will be removed in 4.0.0, use self instead).\n",
            "  \n",
            "/usr/local/lib/python3.6/dist-packages/ipykernel_launcher.py:3: DeprecationWarning: Call to deprecated `wv` (Attribute will be removed in 4.0.0, use self instead).\n",
            "  This is separate from the ipykernel package so we can avoid doing imports until\n",
            "/usr/local/lib/python3.6/dist-packages/ipykernel_launcher.py:4: DeprecationWarning: Call to deprecated `wv` (Attribute will be removed in 4.0.0, use self instead).\n",
            "  after removing the cwd from sys.path.\n",
            "/usr/local/lib/python3.6/dist-packages/ipykernel_launcher.py:7: DeprecationWarning: Call to deprecated `wv` (Attribute will be removed in 4.0.0, use self instead).\n",
            "  import sys\n"
          ],
          "name": "stderr"
        },
        {
          "output_type": "stream",
          "text": [
            "0.057204384\n",
            "0.76640123\n",
            "0.6510957\n"
          ],
          "name": "stdout"
        },
        {
          "output_type": "execute_result",
          "data": {
            "text/plain": [
              "[('glad', 0.7408890128135681),\n",
              " ('pleased', 0.6632171273231506),\n",
              " ('ecstatic', 0.6626912355422974),\n",
              " ('overjoyed', 0.6599286794662476),\n",
              " ('thrilled', 0.6514049768447876),\n",
              " ('satisfied', 0.6437950134277344),\n",
              " ('proud', 0.636042058467865),\n",
              " ('delighted', 0.627237856388092),\n",
              " ('disappointed', 0.6269949674606323),\n",
              " ('excited', 0.6247666478157043)]"
            ]
          },
          "metadata": {
            "tags": []
          },
          "execution_count": 21
        }
      ]
    },
    {
      "cell_type": "code",
      "metadata": {
        "id": "8Mj2EWWMyfmm"
      },
      "source": [
        "#build my own word2vec \r\n",
        "sentences = [['this', 'is', 'the', 'one','good', 'machine', 'learning', 'book'],\r\n",
        "             ['this', 'is',  'another', 'book'],\r\n",
        "             ['one', 'more', 'book'],\r\n",
        "             ['weather', 'rain', 'snow'],\r\n",
        "             ['yesterday', 'weather', 'snow'],\r\n",
        "             ['forecast', 'tomorrow', 'rain', 'snow'],\r\n",
        "             ['this', 'is', 'the', 'new', 'post'],\r\n",
        "             ['this', 'is', 'about', 'more', 'machine', 'learning', 'post'],  \r\n",
        "             ['and', 'this', 'is', 'the', 'one', 'last', 'post', 'book']]\r\n",
        " \r\n",
        " \r\n",
        "model = Word2Vec(sentences, min_count=1, size=100)"
      ],
      "execution_count": 22,
      "outputs": []
    },
    {
      "cell_type": "code",
      "metadata": {
        "colab": {
          "base_uri": "https://localhost:8080/"
        },
        "id": "QTblfrvbym7n",
        "outputId": "f5b0ea00-fc72-468b-86c6-ad78b02336e3"
      },
      "source": [
        "#Printing the vector of a word\r\n",
        "print(model['post'])\r\n",
        "#Check similarity between two words\r\n",
        "print (model.wv.similarity('post', 'book'))\r\n",
        "\r\n",
        "# Get most similar words to this string\r\n",
        "model.wv.most_similar(\"post\")"
      ],
      "execution_count": 29,
      "outputs": [
        {
          "output_type": "stream",
          "text": [
            "[ 0.00187043  0.00435264 -0.004065   -0.00439731 -0.00254203 -0.00121148\n",
            " -0.00154579  0.00465678 -0.00330639  0.0039362  -0.00459812  0.0020389\n",
            "  0.00427711  0.00435379  0.00193448  0.00114787 -0.00489754 -0.00163892\n",
            "  0.00301691 -0.00463428  0.00278777 -0.00206569  0.00288685 -0.00483473\n",
            " -0.00396904  0.00476835 -0.00058223  0.00263615  0.00027135  0.00234569\n",
            "  0.00476089  0.00410749  0.00396887 -0.00181568  0.00425031 -0.00343496\n",
            " -0.00275877  0.00142579  0.00228004  0.00490466  0.00356457  0.00110029\n",
            "  0.00244881  0.00250038 -0.00026026  0.00028753  0.00151296  0.0001724\n",
            " -0.00341589  0.00088018  0.00038721 -0.00195164  0.00076107 -0.00113677\n",
            " -0.00179824  0.00469555 -0.00286752  0.00047941  0.00448917 -0.00236171\n",
            "  0.00186487 -0.00405417 -0.00207587  0.00451166 -0.00317643  0.00413646\n",
            " -0.00104724  0.00073999  0.00411371 -0.00053202  0.00381666  0.00153315\n",
            "  0.00262831  0.00372142  0.00082119  0.00464606 -0.00091257 -0.00090521\n",
            "  0.00015045  0.0006136  -0.00226569  0.00195428  0.00354683  0.00494404\n",
            " -0.00337365  0.00211044  0.00270601  0.00119028 -0.00490886  0.00242034\n",
            "  0.00202153  0.0017222   0.00071133 -0.00015213  0.00258382  0.00058959\n",
            " -0.00443247  0.00266465  0.00267269  0.00459587]\n",
            "-0.015952779\n"
          ],
          "name": "stdout"
        },
        {
          "output_type": "stream",
          "text": [
            "/usr/local/lib/python3.6/dist-packages/ipykernel_launcher.py:2: DeprecationWarning: Call to deprecated `__getitem__` (Method will be removed in 4.0.0, use self.wv.__getitem__() instead).\n",
            "  \n"
          ],
          "name": "stderr"
        },
        {
          "output_type": "execute_result",
          "data": {
            "text/plain": [
              "[('more', 0.19718220829963684),\n",
              " ('about', 0.10128888487815857),\n",
              " ('is', 0.06388436257839203),\n",
              " ('snow', 0.04316561669111252),\n",
              " ('last', 0.018503449857234955),\n",
              " ('new', 0.005971148610115051),\n",
              " ('machine', -0.010785603895783424),\n",
              " ('book', -0.01595277525484562),\n",
              " ('tomorrow', -0.019839534536004066),\n",
              " ('forecast', -0.05902543663978577)]"
            ]
          },
          "metadata": {
            "tags": []
          },
          "execution_count": 29
        }
      ]
    },
    {
      "cell_type": "code",
      "metadata": {
        "colab": {
          "base_uri": "https://localhost:8080/"
        },
        "id": "W6Tq2RHtxoD-",
        "outputId": "5b1d5dd6-a152-424b-9d7e-956f105b9a11"
      },
      "source": [
        "\r\n",
        "\r\n",
        "# =============================================================================\r\n",
        "\r\n",
        "# =============================================================================\r\n",
        "##--------- Calculate and get the result of difference between more than strings ---------\r\n",
        "import gensim\r\n",
        "from gensim.models import KeyedVectors\r\n",
        "# load the google word2vec model\r\n",
        "filename = 'GoogleNews-vectors-negative300.bin'\r\n",
        "model = KeyedVectors.load_word2vec_format(filename, binary=True)\r\n",
        "# calculate: (king - man) + woman = ?\r\n",
        "result = model.most_similar(positive=['woman', 'king'], negative=['man'], topn=1)\r\n",
        "print(result)\r\n",
        "\r\n",
        "# =============================================================================\r\n"
      ],
      "execution_count": 31,
      "outputs": [
        {
          "output_type": "stream",
          "text": [
            "[('queen', 0.7118192911148071)]\n"
          ],
          "name": "stdout"
        }
      ]
    }
  ]
}